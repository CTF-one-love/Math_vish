{
 "cells": [
  {
   "cell_type": "markdown",
   "id": "a4a44695",
   "metadata": {},
   "source": [
    "## ПЗ_1-2 работа с графами"
   ]
  },
  {
   "cell_type": "code",
   "execution_count": null,
   "id": "f2dd4aed",
   "metadata": {},
   "outputs": [],
   "source": [
    "import numpy as np\n",
    "import networkx as nx\n",
    "from collections import deque\n",
    "import matplotlib.pyplot as plt"
   ]
  },
  {
   "cell_type": "code",
   "execution_count": 12,
   "id": "6b29dd1d-4eaf-4cc4-a275-cff29b5484ab",
   "metadata": {},
   "outputs": [],
   "source": [
    "matrixx = np.loadtxt(\"Матрица смежности\", dtype=\"uint8\", delimiter=',')"
   ]
  },
  {
   "cell_type": "code",
   "execution_count": 13,
   "id": "fe3aff38-0dc7-4ad4-ae6e-efe1eb43804c",
   "metadata": {},
   "outputs": [],
   "source": [
    "def bfs(matrixx, start_node):\n",
    "    visited = [False] * len(matrixx)\n",
    "    queue = deque()\n",
    "    queue.append(start_node)\n",
    "    visited[start_node] = True\n",
    "    result = []\n",
    "\n",
    "    while queue:\n",
    "        node = queue.popleft()\n",
    "        result.append(node + 1)  \n",
    "\n",
    "        for i, value in enumerate(matrixx[node]):\n",
    "            if value == 1 and not visited[i]:\n",
    "                queue.append(i)\n",
    "                visited[i] = True\n",
    "\n",
    "    return result"
   ]
  },
  {
   "cell_type": "code",
   "execution_count": 14,
   "id": "172f0cae-387f-4054-befe-061654117992",
   "metadata": {},
   "outputs": [],
   "source": [
    "def dfs(matrixx, node, visited):\n",
    "    visited[node] = True\n",
    "    result = [node + 1]\n",
    "    for i, value in enumerate(matrixx[node]):\n",
    "        if value == 1 and not visited[i]:\n",
    "            result += dfs(matrixx, i, visited)\n",
    "    return result"
   ]
  },
  {
   "cell_type": "code",
   "execution_count": 15,
   "id": "5ebccce7-b400-4fc7-929d-9580a0a2f107",
   "metadata": {},
   "outputs": [],
   "source": [
    "dfs_visit = [False] * len(matrixx)"
   ]
  },
  {
   "cell_type": "code",
   "execution_count": 16,
   "id": "02781e72-0496-4efd-8324-ee2758dc3ebc",
   "metadata": {},
   "outputs": [
    {
     "data": {
      "text/plain": [
       "[1, 6, 3, 2, 4, 5, 9, 8, 13, 18, 10, 14, 17, 7, 11, 15, 20, 19, 12, 16]"
      ]
     },
     "execution_count": 16,
     "metadata": {},
     "output_type": "execute_result"
    }
   ],
   "source": [
    "dfs(matrixx, 0, dfs_visit)"
   ]
  },
  {
   "cell_type": "code",
   "execution_count": 17,
   "id": "5678050d-068d-4e39-8c46-1c024365c782",
   "metadata": {},
   "outputs": [
    {
     "data": {
      "text/plain": [
       "[1, 6, 9, 3, 8, 16, 2, 4, 5, 13, 19, 18, 12, 10, 17, 14, 7, 11, 15, 20]"
      ]
     },
     "execution_count": 17,
     "metadata": {},
     "output_type": "execute_result"
    }
   ],
   "source": [
    "bfs(matrixx, 0)"
   ]
  },
  {
   "cell_type": "code",
   "execution_count": 18,
   "id": "a71dc188-9d7f-429d-996c-46b6664a3101",
   "metadata": {},
   "outputs": [],
   "source": [
    "G = nx.DiGraph()\n",
    "for i in range(len(matrixx)):\n",
    "    G.add_node(i)\n",
    "for i in range(len(matrixx)):\n",
    "    for j in range(len(matrixx[i])):\n",
    "        if matrixx[i][j] == 1:\n",
    "            G.add_edge(i, j)"
   ]
  },
  {
   "cell_type": "code",
   "execution_count": 19,
   "id": "ae9032a6-548c-460d-9c4b-facd45981c49",
   "metadata": {},
   "outputs": [
    {
     "data": {
      "text/plain": [
       "[0, 5, 2, 1, 3, 4, 8, 7, 12, 17, 9, 13, 16, 6, 10, 14, 19, 18, 11, 15]"
      ]
     },
     "execution_count": 19,
     "metadata": {},
     "output_type": "execute_result"
    }
   ],
   "source": [
    "dfs_nx = list(nx.dfs_tree(G, source=0))\n",
    "dfs_nx"
   ]
  },
  {
   "cell_type": "code",
   "execution_count": 20,
   "id": "695f1f6b-99d5-44d6-8ebc-98488f292f68",
   "metadata": {},
   "outputs": [
    {
     "data": {
      "text/plain": [
       "[0, 5, 8, 2, 7, 15, 1, 3, 4, 12, 18, 17, 11, 9, 16, 13, 6, 10, 14, 19]"
      ]
     },
     "execution_count": 20,
     "metadata": {},
     "output_type": "execute_result"
    }
   ],
   "source": [
    "bfs_nx = list(nx.bfs_tree(G, source=0))\n",
    "bfs_nx"
   ]
  },
  {
   "cell_type": "markdown",
   "id": "01790d80",
   "metadata": {},
   "source": [
    "Матрица смежности из пз 1-2"
   ]
  },
  {
   "cell_type": "code",
   "execution_count": 21,
   "id": "2f43df4d",
   "metadata": {},
   "outputs": [],
   "source": [
    "matrix = [\n",
    "[0, 0, 0, 0, 0, 1, 0, 0, 1, 0, 0, 0, 0, 0, 0, 0, 0, 0, 0, 0],\n",
    "[0, 0, 1, 0, 0, 0, 0, 0, 0, 0, 0, 0, 0, 0, 0, 0, 0, 0, 0, 0],\n",
    "[0, 1, 0, 1, 1, 1, 0, 0, 0, 0, 0, 0, 0, 0, 0, 0, 0, 0, 0, 0],\n",
    "[0, 0, 1, 0, 0, 0, 0, 0, 0, 0, 0, 0, 0, 0, 0, 0, 0, 0, 0, 0],\n",
    "[0, 0, 1, 0, 0, 0, 0, 0, 0, 0, 0, 0, 0, 0, 0, 0, 0, 0, 0, 0],\n",
    "[1, 0, 1, 0, 0, 0, 0, 0, 0, 0, 0, 0, 0, 0, 0, 0, 0, 0, 0, 0],\n",
    "[0, 0, 0, 0, 0, 0, 0, 0, 0, 0, 0, 0, 0, 0, 0, 0, 1, 0, 0, 0],\n",
    "[0, 0, 0, 0, 0, 0, 0, 0, 1, 0, 0, 0, 1, 0, 0, 0, 0, 0, 1, 0],\n",
    "[1, 0, 0, 0, 0, 0, 0, 1, 0, 0, 0, 0, 0, 0, 0, 1, 0, 0, 0, 0],\n",
    "[0, 0, 0, 0, 0, 0, 0, 0, 0, 0, 0, 0, 0, 1, 0, 0, 1, 1, 0, 0],\n",
    "[0, 0, 0, 0, 0, 0, 0, 0, 0, 0, 0, 0, 0, 0, 0, 0, 1, 0, 0, 0],\n",
    "[0, 0, 0, 0, 0, 0, 0, 0, 0, 0, 0, 0, 0, 0, 0, 0, 0, 0, 1, 0],\n",
    "[0, 0, 0, 0, 0, 0, 0, 1, 0, 0, 0, 0, 0, 0, 0, 0, 0, 1, 0, 0],\n",
    "[0, 0, 0, 0, 0, 0, 0, 0, 0, 1, 0, 0, 0, 0, 0, 0, 0, 0, 0, 0],\n",
    "[0, 0, 0, 0, 0, 0, 0, 0, 0, 0, 0, 0, 0, 0, 0, 0, 1, 0, 0, 0],\n",
    "[0, 0, 0, 0, 0, 0, 0, 0, 1, 0, 0, 0, 0, 0, 0, 0, 0, 0, 0, 0],\n",
    "[0, 0, 0, 0, 0, 0, 1, 0, 0, 1, 1, 0, 0, 0, 1, 0, 0, 1, 0, 1],\n",
    "[0, 0, 0, 0, 0, 0, 0, 0, 0, 1, 0, 0, 1, 0, 0, 0, 1, 0, 0, 0],\n",
    "[0, 0, 0, 0, 0, 0, 0, 1, 0, 0, 0, 1, 0, 0, 0, 0, 0, 0, 0, 0],\n",
    "[0, 0, 0, 0, 0, 0, 0, 0, 0, 0, 0, 0, 0, 0, 0, 0, 1, 0, 0, 0]\n",
    "]"
   ]
  },
  {
   "cell_type": "markdown",
   "id": "2421081b",
   "metadata": {},
   "source": [
    "1. Превратить граф из ПЗ1-2 во взвешенный, веса - целые числа, распределенные случайным образом"
   ]
  },
  {
   "cell_type": "code",
   "execution_count": 28,
   "id": "981b47ff",
   "metadata": {},
   "outputs": [
    {
     "data": {
      "image/png": "[encoded data removed]",
      "text/plain": [
       "<Figure size 640x480 with 1 Axes>"
      ]
     },
     "metadata": {},
     "output_type": "display_data"
    }
   ],
   "source": [
    "G = nx.Graph()\n",
    "\n",
    "for i in range(len(matrix)):\n",
    "    for j in range(len(matrix[i])):\n",
    "        if matrix[i][j] == 1:\n",
    "            weight = np.random.randint(1, 10)\n",
    "            G.add_edge(i, j, weight=weight)\n",
    "\n",
    "pos = nx.spring_layout(G)\n",
    "edge_labels = {(i, j): G[i][j]['weight'] for i, j in G.edges()}\n",
    "\n",
    "nx.draw(G, pos, with_labels=True, node_size=150, node_color='orange', font_size=8)\n",
    "nx.draw_networkx_edge_labels(G, pos, edge_labels=edge_labels)\n",
    "\n",
    "plt.show()"
   ]
  },
  {
   "cell_type": "code",
   "execution_count": null,
   "id": "388c40cb",
   "metadata": {},
   "outputs": [],
   "source": []
  },
  {
   "cell_type": "code",
   "execution_count": 23,
   "id": "f530838a",
   "metadata": {},
   "outputs": [
    {
     "name": "stdout",
     "output_type": "stream",
     "text": [
      "Введите вершину А: 2\n",
      "Введите вершину Б: 1\n",
      "\n",
      "Минимальный путь поиска в глубину: [2, 1]\n",
      "Вес: 2\n"
     ]
    }
   ],
   "source": [
    "def shortest_path(graph, start, end):\n",
    "        path = nx.shortest_path(graph, source=start, target=end, weight='weight')\n",
    "        length = nx.shortest_path_length(graph, source=start, target=end, weight='weight')\n",
    "        return path, length\n",
    "\n",
    "start_node = int(input(\"Введите вершину А: \"))\n",
    "end_node = int(input(\"Введите вершину Б: \"))\n",
    "\n",
    "path, length = shortest_path(G, start_node, end_node)\n",
    "print(f\"\\nМинимальный путь поиска в глубину: {path}\")\n",
    "print(f\"Вес: {length}\")"
   ]
  },
  {
   "cell_type": "markdown",
   "id": "1d4951b1",
   "metadata": {},
   "source": [
    "Вторая матрица смежности из пз 1-2"
   ]
  },
  {
   "cell_type": "code",
   "execution_count": 24,
   "id": "964769b4",
   "metadata": {},
   "outputs": [],
   "source": [
    "matrix1=[\n",
    "[0, 0, 0, 0, 1, 0, 0, 0, 0, 0, 0, 0, 0, 0, 0, 0, 0, 0, 0, 1],\n",
    "[0, 0, 5, 1, 0, 0, 0, 0, 0, 0, 0, 0, 0, 0, 0, 0, 0, 0, 0, 0],\n",
    "[0, 5, 0, 0, 0, 0, 0, 0, 0, 0, 1, 0, 0, 0, 0, 0, 0, 0, 0, 0],\n",
    "[0, 1, 0, 0, 0, 4, 1, 0, 1, 0, 0, 0, 0, 0, 0, 0, 0, 0, 0, 0],\n",
    "[1, 0, 0, 0, 0, 0, 1, 0, 0, 0, 0, 4, 0, 0, 0, 0, 0, 0, 0, 0],\n",
    "[0, 0, 0, 4, 0, 0, 0, 0, 0, 0, 1, 0, 0, 0, 0, 0, 0, 0, 0, 0],\n",
    "[0, 0, 0, 1, 1, 0, 0, 1, 0, 0, 0, 0, 0, 1, 0, 0, 0, 0, 0, 0],\n",
    "[0, 0, 0, 0, 0, 0, 1, 0, 0, 0, 0, 0, 2, 0, 0, 6, 1, 0, 0, 0],\n",
    "[0, 0, 0, 1, 0, 0, 0, 0, 0, 4, 0, 0, 0, 1, 0, 0, 0, 0, 0, 0],\n",
    "[0, 0, 0, 0, 0, 0, 0, 0, 4, 0, 0, 0, 0, 0, 1, 0, 0, 0, 0, 0],\n",
    "[0, 0, 1, 0, 0, 1, 0, 0, 0, 0, 0, 0, 0, 0, 0, 0, 0, 0, 0, 0],\n",
    "[0, 0, 0, 0, 4, 0, 0, 0, 0, 0, 0, 0, 0, 0, 0, 0, 0, 0, 7, 0],\n",
    "[0, 0, 0, 0, 0, 0, 0, 2, 0, 0, 0, 0, 0, 0, 0, 0, 0, 0, 0, 0],\n",
    "[0, 0, 0, 0, 0, 0, 1, 0, 1, 0, 0, 0, 0, 0, 9, 0, 0, 0, 0, 0],\n",
    "[0, 0, 0, 0, 0, 0, 0, 0, 0, 1, 0, 0, 0, 9, 0, 0, 0, 0, 0, 0],\n",
    "[0, 0, 0, 0, 0, 0, 0, 6, 0, 0, 0, 0, 0, 0, 0, 0, 0, 0, 0, 0],\n",
    "[0, 0, 0, 0, 0, 0, 0, 1, 0, 0, 0, 0, 0, 0, 0, 0, 0, 5, 0, 0],\n",
    "[0, 0, 0, 0, 0, 0, 0, 0, 0, 0, 0, 0, 0, 0, 0, 0, 5, 0, 5, 0],\n",
    "[0, 0, 0, 0, 0, 0, 0, 0, 0, 0, 0, 7, 0, 0, 0, 0, 0, 5, 0, 1],\n",
    "[1, 0, 0, 0, 0, 0, 0, 0, 0, 0, 0, 0, 0, 0, 0, 0, 0, 0, 0, 0]\n",
    "]"
   ]
  },
  {
   "cell_type": "markdown",
   "id": "ddcaa617",
   "metadata": {},
   "source": [
    "Создадим визуализацию взвешенного графа по нашей второй матрице и отобразим его"
   ]
  },
  {
   "cell_type": "code",
   "execution_count": null,
   "id": "4e9877ac",
   "metadata": {},
   "outputs": [],
   "source": []
  }
 ],
 "metadata": {
  "kernelspec": {
   "display_name": "Python 3 (ipykernel)",
   "language": "python",
   "name": "python3"
  },
  "language_info": {
   "codemirror_mode": {
    "name": "ipython",
    "version": 3
   },
   "file_extension": ".py",
   "mimetype": "text/x-python",
   "name": "python",
   "nbconvert_exporter": "python",
   "pygments_lexer": "ipython3",
   "version": "3.9.16"
  }
 },
 "nbformat": 4,
 "nbformat_minor": 5
}
