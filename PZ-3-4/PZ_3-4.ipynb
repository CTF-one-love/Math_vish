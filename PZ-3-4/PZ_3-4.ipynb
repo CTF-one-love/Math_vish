{
 "cells": [
  {
   "cell_type": "markdown",
   "id": "9888e798",
   "metadata": {},
   "source": [
    "## Реализация методов одномерного поиска с точностью 0,001 для 8 варианта x^3-x, x ∊ [0,1]"
   ]
  },
  {
   "cell_type": "markdown",
   "id": "3dae87df",
   "metadata": {},
   "source": [
    "### Аналитическое решение:\n",
    "При минимальном значении (x = 0), f'(x) = -1"
   ]
  },
  {
   "cell_type": "code",
   "execution_count": 1,
   "id": "da13a925",
   "metadata": {},
   "outputs": [],
   "source": [
    "import numpy as np\n",
    "import time\n",
    "import pandas as pd\n",
    "import math\n",
    "import matplotlib.pyplot as plt\n",
    "from scipy.optimize import minimize"
   ]
  },
  {
   "cell_type": "code",
   "execution_count": 2,
   "id": "15e2f9a5",
   "metadata": {},
   "outputs": [],
   "source": [
    "# Пример использования:\n",
    "def sample_function(x):\n",
    "    return x**3-x  \n",
    "\n",
    "min_f_list = []\n",
    "min_x_list = []\n",
    "iterations_list = []\n",
    "exec_time_list = []\n",
    "final_interval_length_list=[]"
   ]
  },
  {
   "cell_type": "markdown",
   "id": "89afa1af",
   "metadata": {},
   "source": [
    "### Метод половинного деления"
   ]
  },
  {
   "cell_type": "code",
   "execution_count": 3,
   "id": "ba267029",
   "metadata": {},
   "outputs": [
    {
     "name": "stdout",
     "output_type": "stream",
     "text": [
      "Введите начало интервала: 0\n",
      "Введите конец интервала: 1\n",
      "Введите точность измерения: 0.001\n",
      "Метод половинного деления: Минимальное значение функции - -0.003894813358783722, значение x - 0.998046875, число итераций - 9, время выполнения - 0.0 секунд, длина конечного отрезка - 0.001953125\n"
     ]
    }
   ],
   "source": [
    "def half_interval_method(func, a, b, epsilon, max_iterations=1000):\n",
    "    iteration = 0\n",
    "    start_time = time.time()\n",
    "\n",
    "    while (b - a) / 2 > epsilon and iteration < max_iterations:\n",
    "        midpoint = (a + b) / 2\n",
    "        if func(midpoint) == 0:\n",
    "            break\n",
    "        elif func(midpoint) * func(a) < 0:\n",
    "            b = midpoint\n",
    "        else:\n",
    "            a = midpoint\n",
    "\n",
    "        iteration += 1\n",
    "\n",
    "    end_time = time.time()\n",
    "    duration = end_time - start_time\n",
    "    min_value = func(midpoint)\n",
    "\n",
    "    return {\n",
    "        'min_value': min_value,\n",
    "        'x_value': midpoint,\n",
    "        'iterations': iteration,\n",
    "        'execution_time': duration,\n",
    "        'interval_length': (b - a)\n",
    "    }\n",
    "\n",
    "\n",
    "a = float(input(\"Введите начало интервала: \"))\n",
    "b = float(input(\"Введите конец интервала: \"))\n",
    "epsilon = float(input(\"Введите точность измерения: \"))\n",
    "\n",
    "result = half_interval_method(sample_function, a, b, epsilon)\n",
    "print(\"Метод половинного деления:\", f\"Минимальное значение функции - {result['min_value']}, значение x - {result['x_value']}, число итераций - {result['iterations']}, время выполнения - {result['execution_time']} секунд, длина конечного отрезка - {result['interval_length']}\")\n",
    "\n",
    "\n",
    "min_f_list.append(result['min_value'])\n",
    "min_x_list.append(result['x_value'])\n",
    "iterations_list.append(result['iterations'])\n",
    "exec_time_list.append(result['execution_time'])\n",
    "final_interval_length_list.append(result['interval_length'])"
   ]
  },
  {
   "cell_type": "markdown",
   "id": "81a7fd4c",
   "metadata": {},
   "source": [
    "### Метод золотого сечения"
   ]
  },
  {
   "cell_type": "code",
   "execution_count": 4,
   "id": "1af72267",
   "metadata": {},
   "outputs": [
    {
     "name": "stdout",
     "output_type": "stream",
     "text": [
      "Введите начало интервала: 0\n",
      "Введите конец интервала: 1\n",
      "Введите точность измерения: 0.001\n",
      "Метод золотого сечения: Минимальное значение функции - -0.3849000648842531, значение x - 0.5776074468978706, число итераций - 13, время выполнения - 0.0 секунд, длина конечного отрезка - 0.001919378725499632\n"
     ]
    }
   ],
   "source": [
    "def golden_section_method(func, a, b, epsilon, max_iterations=1000):\n",
    "    phi = (1 + 5**0.5) / 2  # Золотое сечение\n",
    "\n",
    "    iteration = 0\n",
    "    start_time = time.time()\n",
    "\n",
    "    while (b - a) / 2 > epsilon and iteration < max_iterations:\n",
    "        x1 = b - (b - a) / phi\n",
    "        x2 = a + (b - a) / phi\n",
    "\n",
    "        if func(x1) < func(x2):\n",
    "            b = x2\n",
    "        else:\n",
    "            a = x1\n",
    "\n",
    "        iteration += 1\n",
    "\n",
    "    end_time = time.time()\n",
    "    duration = end_time - start_time\n",
    "    x_value = (a + b) / 2\n",
    "    min_value = func(x_value)\n",
    "\n",
    "    return {\n",
    "        'min_value': min_value,\n",
    "        'x_value': x_value,\n",
    "        'iterations': iteration,\n",
    "        'execution_time': duration,\n",
    "        'interval_length': (b - a)\n",
    "    }\n",
    "\n",
    "# Получаем интервал от пользователя\n",
    "a = float(input(\"Введите начало интервала: \"))\n",
    "b = float(input(\"Введите конец интервала: \"))\n",
    "epsilon = float(input(\"Введите точность измерения: \"))\n",
    "\n",
    "result = golden_section_method(sample_function, a, b,epsilon)\n",
    "print(\"Метод золотого сечения:\", f\"Минимальное значение функции - {result['min_value']}, значение x - {result['x_value']}, число итераций - {result['iterations']}, время выполнения - {result['execution_time']} секунд, длина конечного отрезка - {result['interval_length']}\")\n",
    "\n",
    "min_f_list.append(result['min_value'])\n",
    "min_x_list.append(result['x_value'])\n",
    "iterations_list.append(result['iterations'])\n",
    "exec_time_list.append(result['execution_time'])\n",
    "final_interval_length_list.append(result['interval_length'])"
   ]
  },
  {
   "cell_type": "markdown",
   "id": "93bfafa2",
   "metadata": {},
   "source": [
    "### Метод Фибоначчи"
   ]
  },
  {
   "cell_type": "code",
   "execution_count": 5,
   "id": "7a9efcbe",
   "metadata": {},
   "outputs": [
    {
     "name": "stdout",
     "output_type": "stream",
     "text": [
      "Введите начало интервала: 0\n",
      "Введите конец интервала: 1\n",
      "Введите точность измерения: 0.001\n",
      "Метод Фибоначчи: Минимальное значение функции - -0.35777062877086363, значение x - 0.44721297642848656, число итераций - 15, время выполнения - 0.004987478256225586 секунд, длина конечного отрезка - 7.84187947855397e-07\n"
     ]
    }
   ],
   "source": [
    "def fibonacci_method(func, a, b, epsilon, max_iterations=1000):\n",
    "    # Функция для вычисления числа Фибоначчи\n",
    "    def fibonacci(n):\n",
    "        if n <= 1:\n",
    "            return n\n",
    "        else:\n",
    "            return fibonacci(n - 1) + fibonacci(n - 2)\n",
    "\n",
    "    # Находим минимальное k такое, что F(k+2) > (b - a) / epsilon\n",
    "    k = 0\n",
    "    while fibonacci(k + 2) <= (b - a) / epsilon:\n",
    "        k += 1\n",
    "\n",
    "    iteration = 0\n",
    "    start_time = time.time()\n",
    "\n",
    "    x1 = a + (fibonacci(k) / fibonacci(k + 2)) * (b - a)\n",
    "    x2 = a + (fibonacci(k + 1) / fibonacci(k + 2)) * (b - a)\n",
    "\n",
    "    for _ in range(1, k + 1):\n",
    "        if func(x1) < func(x2):\n",
    "            b = x2\n",
    "            x2 = x1\n",
    "            x1 = a + (fibonacci(k - iteration) / fibonacci(k - iteration + 2)) * (b - a)\n",
    "        else:\n",
    "            a = x1\n",
    "            x1 = x2\n",
    "            x2 = a + (fibonacci(k - iteration - 1) / fibonacci(k - iteration + 2)) * (b - a)\n",
    "\n",
    "        iteration += 1\n",
    "\n",
    "    end_time = time.time()\n",
    "    duration = end_time - start_time\n",
    "    x_value = (a + b) / 2\n",
    "    min_value = func(x_value)\n",
    "\n",
    "    return {\n",
    "        'min_value': min_value,\n",
    "        'x_value': x_value,\n",
    "        'iterations': iteration,\n",
    "        'execution_time': duration,\n",
    "        'interval_length': (b - a)\n",
    "    }\n",
    "\n",
    "# Получаем интервал от пользователя\n",
    "a = float(input(\"Введите начало интервала: \"))\n",
    "b = float(input(\"Введите конец интервала: \"))\n",
    "epsilon = float(input(\"Введите точность измерения: \"))\n",
    "\n",
    "result = fibonacci_method(sample_function, a, b,epsilon)\n",
    "print(\"Метод Фибоначчи:\", f\"Минимальное значение функции - {result['min_value']}, значение x - {result['x_value']}, число итераций - {result['iterations']}, время выполнения - {result['execution_time']} секунд, длина конечного отрезка - {result['interval_length']}\")\n",
    "\n",
    "\n",
    "min_f_list.append(result['min_value'])\n",
    "min_x_list.append(result['x_value'])\n",
    "iterations_list.append(result['iterations'])\n",
    "exec_time_list.append(result['execution_time'])\n",
    "final_interval_length_list.append(result['interval_length'])"
   ]
  },
  {
   "cell_type": "markdown",
   "id": "006bbd9e",
   "metadata": {},
   "source": [
    "### Метод Ньютона черезе библиотеку SciPy"
   ]
  },
  {
   "cell_type": "code",
   "execution_count": 6,
   "id": "f6c9e23b",
   "metadata": {},
   "outputs": [
    {
     "name": "stdout",
     "output_type": "stream",
     "text": [
      "Метод Ньютона: Минимальное значение функции - 1.0, значение x - 0, число итераций - 51, время выполнения - 0.000000 секунд, длина конечного отрезка - 4.440892098500626e-14\n"
     ]
    }
   ],
   "source": [
    "def func(x):\n",
    "    return math.exp(x)\n",
    "\n",
    "def derivative(x):\n",
    "    return math.exp(x)\n",
    "\n",
    "def newton_method(initial_guess, tolerance, interval):\n",
    "    x = initial_guess\n",
    "    iteration = 0\n",
    "\n",
    "    start_time = time.time()\n",
    "\n",
    "    while abs(derivative(x)) > tolerance and interval[0] <= x <= interval[1]:\n",
    "        x = x - func(x) / derivative(x)\n",
    "        iteration += 1\n",
    "\n",
    "    end_time = time.time()\n",
    "    exec_time = end_time - start_time\n",
    "\n",
    "    if x < interval[0]:\n",
    "        x = interval[0]\n",
    "    elif x > interval[1]:\n",
    "        x = interval[1]\n",
    "\n",
    "    final_interval_length = interval[1] - interval[0]\n",
    "\n",
    "    return x, func(x), final_interval_length, iteration, exec_time\n",
    "\n",
    "initial_guess = 50\n",
    "interval = (0, 100)\n",
    "tolerance = 0.001\n",
    "\n",
    "min_x, min_f, _, iterations, exec_time = newton_method(initial_guess, tolerance, interval)\n",
    "\n",
    "interval_length = (interval[1] - interval[0]) / 2**iterations\n",
    "print(f\"Метод Ньютона: Минимальное значение функции - {min_f}, значение x - {min_x}, \"\n",
    "      f\"число итераций - {iterations}, время выполнения - {exec_time:.6f} секунд, \"\n",
    "      f\"длина конечного отрезка - {interval_length}\")\n",
    "\n",
    "min_f_list.append(min_f)\n",
    "min_x_list.append(min_x)\n",
    "iterations_list.append(iterations)\n",
    "exec_time_list.append(exec_time)\n",
    "final_interval_length_list.append(interval_length)"
   ]
  },
  {
   "cell_type": "markdown",
   "id": "938ae149",
   "metadata": {},
   "source": [
    "Проверка размерности массивов"
   ]
  },
  {
   "cell_type": "code",
   "execution_count": 7,
   "id": "a17860b1",
   "metadata": {},
   "outputs": [
    {
     "data": {
      "text/plain": [
       "[-0.003894813358783722, -0.3849000648842531, -0.35777062877086363, 1.0]"
      ]
     },
     "execution_count": 7,
     "metadata": {},
     "output_type": "execute_result"
    }
   ],
   "source": [
    "min_f_list"
   ]
  },
  {
   "cell_type": "code",
   "execution_count": 8,
   "id": "808202d1",
   "metadata": {},
   "outputs": [
    {
     "data": {
      "text/plain": [
       "[0.998046875, 0.5776074468978706, 0.44721297642848656, 0]"
      ]
     },
     "execution_count": 8,
     "metadata": {},
     "output_type": "execute_result"
    }
   ],
   "source": [
    "min_x_list"
   ]
  },
  {
   "cell_type": "code",
   "execution_count": 9,
   "id": "815fc9ad",
   "metadata": {},
   "outputs": [
    {
     "data": {
      "text/plain": [
       "[0.001953125,\n",
       " 0.001919378725499632,\n",
       " 7.84187947855397e-07,\n",
       " 4.440892098500626e-14]"
      ]
     },
     "execution_count": 9,
     "metadata": {},
     "output_type": "execute_result"
    }
   ],
   "source": [
    "final_interval_length_list"
   ]
  },
  {
   "cell_type": "markdown",
   "id": "4e5b77f5",
   "metadata": {},
   "source": [
    "### Построение таблицы значений полученных методами"
   ]
  },
  {
   "cell_type": "code",
   "execution_count": 11,
   "id": "c9e64458",
   "metadata": {},
   "outputs": [
    {
     "data": {
      "text/html": [
       "<div>\n",
       "<style scoped>\n",
       "    .dataframe tbody tr th:only-of-type {\n",
       "        vertical-align: middle;\n",
       "    }\n",
       "\n",
       "    .dataframe tbody tr th {\n",
       "        vertical-align: top;\n",
       "    }\n",
       "\n",
       "    .dataframe thead th {\n",
       "        text-align: right;\n",
       "    }\n",
       "</style>\n",
       "<table border=\"1\" class=\"dataframe\">\n",
       "  <thead>\n",
       "    <tr style=\"text-align: right;\">\n",
       "      <th></th>\n",
       "      <th>Метод</th>\n",
       "      <th>Минимальное значение f(x)</th>\n",
       "      <th>Минимальное значение x</th>\n",
       "      <th>Число итераций</th>\n",
       "      <th>Время выполнения</th>\n",
       "      <th>Длина конечного отрезка</th>\n",
       "    </tr>\n",
       "  </thead>\n",
       "  <tbody>\n",
       "    <tr>\n",
       "      <th>0</th>\n",
       "      <td>Метод половинного деления</td>\n",
       "      <td>-0.003895</td>\n",
       "      <td>0.998047</td>\n",
       "      <td>9</td>\n",
       "      <td>0.000000</td>\n",
       "      <td>1.953125e-03</td>\n",
       "    </tr>\n",
       "    <tr>\n",
       "      <th>1</th>\n",
       "      <td>Метод золотого сечения</td>\n",
       "      <td>-0.384900</td>\n",
       "      <td>0.577607</td>\n",
       "      <td>13</td>\n",
       "      <td>0.000000</td>\n",
       "      <td>1.919379e-03</td>\n",
       "    </tr>\n",
       "    <tr>\n",
       "      <th>2</th>\n",
       "      <td>Метод Ньютона L-BFGS-B</td>\n",
       "      <td>-0.357771</td>\n",
       "      <td>0.447213</td>\n",
       "      <td>15</td>\n",
       "      <td>0.004987</td>\n",
       "      <td>7.841879e-07</td>\n",
       "    </tr>\n",
       "    <tr>\n",
       "      <th>3</th>\n",
       "      <td>Метод Ньютона</td>\n",
       "      <td>1.000000</td>\n",
       "      <td>0.000000</td>\n",
       "      <td>51</td>\n",
       "      <td>0.000000</td>\n",
       "      <td>4.440892e-14</td>\n",
       "    </tr>\n",
       "  </tbody>\n",
       "</table>\n",
       "</div>"
      ],
      "text/plain": [
       "                       Метод  Минимальное значение f(x)  \\\n",
       "0  Метод половинного деления                  -0.003895   \n",
       "1     Метод золотого сечения                  -0.384900   \n",
       "2     Метод Ньютона L-BFGS-B                  -0.357771   \n",
       "3              Метод Ньютона                   1.000000   \n",
       "\n",
       "   Минимальное значение x  Число итераций  Время выполнения  \\\n",
       "0                0.998047               9          0.000000   \n",
       "1                0.577607              13          0.000000   \n",
       "2                0.447213              15          0.004987   \n",
       "3                0.000000              51          0.000000   \n",
       "\n",
       "   Длина конечного отрезка  \n",
       "0             1.953125e-03  \n",
       "1             1.919379e-03  \n",
       "2             7.841879e-07  \n",
       "3             4.440892e-14  "
      ]
     },
     "execution_count": 11,
     "metadata": {},
     "output_type": "execute_result"
    }
   ],
   "source": [
    "import pandas as pd\n",
    "\n",
    "df = pd.DataFrame({'Метод': ['Метод половинного деления', 'Метод золотого сечения', 'Метод Ньютона L-BFGS-B', 'Метод Ньютона'], 'Минимальное значение f(x)': min_f_list, 'Минимальное значение x': min_x_list, 'Число итераций': iterations_list, 'Время выполнения': exec_time_list, 'Длина конечного отрезка': final_interval_length_list})\n",
    "df.to_excel('Таблица методов.xlsx', index=False)\n",
    "df"
   ]
  },
  {
   "cell_type": "code",
   "execution_count": null,
   "id": "462cac9a",
   "metadata": {},
   "outputs": [],
   "source": []
  }
 ],
 "metadata": {
  "kernelspec": {
   "display_name": "Python 3 (ipykernel)",
   "language": "python",
   "name": "python3"
  },
  "language_info": {
   "codemirror_mode": {
    "name": "ipython",
    "version": 3
   },
   "file_extension": ".py",
   "mimetype": "text/x-python",
   "name": "python",
   "nbconvert_exporter": "python",
   "pygments_lexer": "ipython3",
   "version": "3.9.16"
  }
 },
 "nbformat": 4,
 "nbformat_minor": 5
}
